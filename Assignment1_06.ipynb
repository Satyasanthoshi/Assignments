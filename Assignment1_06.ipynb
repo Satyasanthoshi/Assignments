{
  "nbformat": 4,
  "nbformat_minor": 0,
  "metadata": {
    "colab": {
      "name": "Assignment1-06.ipynb",
      "provenance": []
    },
    "kernelspec": {
      "name": "python3",
      "display_name": "Python 3"
    }
  },
  "cells": [
    {
      "cell_type": "markdown",
      "metadata": {
        "id": "hOQc9dNH-yHc"
      },
      "source": [
        "Question 1: 5 list in-built functions."
      ]
    },
    {
      "cell_type": "code",
      "metadata": {
        "colab": {
          "base_uri": "https://localhost:8080/"
        },
        "id": "Gi1ZToCQ_3if",
        "outputId": "818e5f6d-67a4-4fec-d061-b6cc70172676"
      },
      "source": [
        "List = [\"hat\",\"rat\",\"bat\",26,90,[46,\"mat\"],68]\r\n",
        "print (List)"
      ],
      "execution_count": 4,
      "outputs": [
        {
          "output_type": "stream",
          "text": [
            "['hat', 'rat', 'bat', 26, 90, [46, 'mat'], 68]\n"
          ],
          "name": "stdout"
        }
      ]
    },
    {
      "cell_type": "code",
      "metadata": {
        "id": "vGk2DeOW_-Ko"
      },
      "source": [
        "List.extend(\"cat\")"
      ],
      "execution_count": 6,
      "outputs": []
    },
    {
      "cell_type": "code",
      "metadata": {
        "colab": {
          "base_uri": "https://localhost:8080/"
        },
        "id": "sTqFY3j8AMlG",
        "outputId": "070a3c73-4003-4926-b4b0-ed810ac21929"
      },
      "source": [
        "print(List)"
      ],
      "execution_count": 7,
      "outputs": [
        {
          "output_type": "stream",
          "text": [
            "['hat', 'rat', 'bat', 26, 90, [46, 'mat'], 68, 'c', 'a', 't']\n"
          ],
          "name": "stdout"
        }
      ]
    },
    {
      "cell_type": "code",
      "metadata": {
        "id": "j5qBxAGGAY5b"
      },
      "source": [
        "List.reverse()"
      ],
      "execution_count": 9,
      "outputs": []
    },
    {
      "cell_type": "code",
      "metadata": {
        "colab": {
          "base_uri": "https://localhost:8080/"
        },
        "id": "Ns8D_vziAny_",
        "outputId": "5130fc42-f38d-4827-9669-487442d8c980"
      },
      "source": [
        "print(List)"
      ],
      "execution_count": 10,
      "outputs": [
        {
          "output_type": "stream",
          "text": [
            "['t', 'a', 'c', 68, [46, 'mat'], 90, 26, 'bat', 'rat', 'hat']\n"
          ],
          "name": "stdout"
        }
      ]
    },
    {
      "cell_type": "code",
      "metadata": {
        "colab": {
          "base_uri": "https://localhost:8080/"
        },
        "id": "3oGrFbcSAxdb",
        "outputId": "6d53aa11-7a0c-431c-f5a9-21601f3c61ed"
      },
      "source": [
        "List.remove(\"hat\")\r\n",
        "print(List)"
      ],
      "execution_count": 11,
      "outputs": [
        {
          "output_type": "stream",
          "text": [
            "['t', 'a', 'c', 68, [46, 'mat'], 90, 26, 'bat', 'rat']\n"
          ],
          "name": "stdout"
        }
      ]
    },
    {
      "cell_type": "code",
      "metadata": {
        "colab": {
          "base_uri": "https://localhost:8080/",
          "height": 35
        },
        "id": "zSlWSjXMA-Wr",
        "outputId": "8f8cfcdb-f969-47b9-9745-04b48c314e23"
      },
      "source": [
        "List.pop(0)"
      ],
      "execution_count": 12,
      "outputs": [
        {
          "output_type": "execute_result",
          "data": {
            "application/vnd.google.colaboratory.intrinsic+json": {
              "type": "string"
            },
            "text/plain": [
              "'t'"
            ]
          },
          "metadata": {
            "tags": []
          },
          "execution_count": 12
        }
      ]
    },
    {
      "cell_type": "code",
      "metadata": {
        "colab": {
          "base_uri": "https://localhost:8080/"
        },
        "id": "gT3beb45BVRW",
        "outputId": "a7a23fc2-a0fe-4984-f859-c96424c0e467"
      },
      "source": [
        "List.count(\"rat\")"
      ],
      "execution_count": 15,
      "outputs": [
        {
          "output_type": "execute_result",
          "data": {
            "text/plain": [
              "1"
            ]
          },
          "metadata": {
            "tags": []
          },
          "execution_count": 15
        }
      ]
    },
    {
      "cell_type": "markdown",
      "metadata": {
        "id": "0i07PCmXB53E"
      },
      "source": [
        "Question 2: 5 dictionaries built-in funtions."
      ]
    },
    {
      "cell_type": "code",
      "metadata": {
        "colab": {
          "base_uri": "https://localhost:8080/"
        },
        "id": "BbwgIv6oCIq2",
        "outputId": "09585a37-7c62-4383-e7b3-255c87f4f9eb"
      },
      "source": [
        "Dic ={\"name\":\"ram\",\"age\": 20,\"dob\":\"August\"}\r\n",
        "print(Dic)"
      ],
      "execution_count": 16,
      "outputs": [
        {
          "output_type": "stream",
          "text": [
            "{'name': 'ram', 'age': 20, 'dob': 'August'}\n"
          ],
          "name": "stdout"
        }
      ]
    },
    {
      "cell_type": "code",
      "metadata": {
        "colab": {
          "base_uri": "https://localhost:8080/",
          "height": 35
        },
        "id": "ZWsbNJ2fCxcT",
        "outputId": "c039f659-4a09-47ed-e234-d95186d7ebb4"
      },
      "source": [
        "Dic.get(\"name\")"
      ],
      "execution_count": 19,
      "outputs": [
        {
          "output_type": "execute_result",
          "data": {
            "application/vnd.google.colaboratory.intrinsic+json": {
              "type": "string"
            },
            "text/plain": [
              "'ram'"
            ]
          },
          "metadata": {
            "tags": []
          },
          "execution_count": 19
        }
      ]
    },
    {
      "cell_type": "code",
      "metadata": {
        "colab": {
          "base_uri": "https://localhost:8080/"
        },
        "id": "3XAcz4_4C80f",
        "outputId": "f71adf19-4782-41db-b64f-2c2c3b54e175"
      },
      "source": [
        "Dic.keys()"
      ],
      "execution_count": 20,
      "outputs": [
        {
          "output_type": "execute_result",
          "data": {
            "text/plain": [
              "dict_keys(['name', 'age', 'dob'])"
            ]
          },
          "metadata": {
            "tags": []
          },
          "execution_count": 20
        }
      ]
    },
    {
      "cell_type": "code",
      "metadata": {
        "colab": {
          "base_uri": "https://localhost:8080/"
        },
        "id": "mzMQmeSeDTc3",
        "outputId": "e85caf23-3787-45a8-defe-73128d9cbc6b"
      },
      "source": [
        "Dic.values()"
      ],
      "execution_count": 21,
      "outputs": [
        {
          "output_type": "execute_result",
          "data": {
            "text/plain": [
              "dict_values(['ram', 20, 'August'])"
            ]
          },
          "metadata": {
            "tags": []
          },
          "execution_count": 21
        }
      ]
    },
    {
      "cell_type": "code",
      "metadata": {
        "colab": {
          "base_uri": "https://localhost:8080/"
        },
        "id": "GkOee_m9DZFF",
        "outputId": "c927d685-078e-4106-a8ae-f6a7f6d06988"
      },
      "source": [
        "Dic.fromkeys(\"age\")"
      ],
      "execution_count": 31,
      "outputs": [
        {
          "output_type": "execute_result",
          "data": {
            "text/plain": [
              "{'a': None, 'e': None, 'g': None}"
            ]
          },
          "metadata": {
            "tags": []
          },
          "execution_count": 31
        }
      ]
    },
    {
      "cell_type": "code",
      "metadata": {
        "colab": {
          "base_uri": "https://localhost:8080/"
        },
        "id": "Ss6v6ZYHDkX_",
        "outputId": "674de93e-c608-4c5b-ffec-0492c49a46ae"
      },
      "source": [
        "Dic.pop(\"age\")"
      ],
      "execution_count": 32,
      "outputs": [
        {
          "output_type": "execute_result",
          "data": {
            "text/plain": [
              "20"
            ]
          },
          "metadata": {
            "tags": []
          },
          "execution_count": 32
        }
      ]
    },
    {
      "cell_type": "code",
      "metadata": {
        "id": "2_nS_tDbEfu_"
      },
      "source": [
        ""
      ],
      "execution_count": null,
      "outputs": []
    }
  ]
}