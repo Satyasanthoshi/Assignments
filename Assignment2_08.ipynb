{
  "nbformat": 4,
  "nbformat_minor": 0,
  "metadata": {
    "colab": {
      "name": "Assignment2_08.ipynb",
      "provenance": []
    },
    "kernelspec": {
      "name": "python3",
      "display_name": "Python 3"
    }
  },
  "cells": [
    {
      "cell_type": "markdown",
      "metadata": {
        "id": "G8LqcTwq0pOy"
      },
      "source": [
        "Question 1: Pilots\r\n"
      ]
    },
    {
      "cell_type": "code",
      "metadata": {
        "id": "0n5WeE9i07L6",
        "colab": {
          "base_uri": "https://localhost:8080/"
        },
        "outputId": "2436a9bd-8806-4b36-807c-5d3fd3f87e3c"
      },
      "source": [
        "a = int(input(\"Altitude required for landing ? -\"))\r\n",
        "if (a <= 1000) :\r\n",
        "  print(\"Safe to land\")\r\n",
        "elif ((a > 1000) and (a < 5000)):\r\n",
        "  print(\"Bring down to 1000\")\r\n",
        "else:\r\n",
        "  print(\"Turn around\")\r\n"
      ],
      "execution_count": 25,
      "outputs": [
        {
          "output_type": "stream",
          "text": [
            "Altitude required for landing ? -1000\n",
            "Safe to land\n"
          ],
          "name": "stdout"
        }
      ]
    },
    {
      "cell_type": "code",
      "metadata": {
        "id": "aFP3AJLM3WjG",
        "colab": {
          "base_uri": "https://localhost:8080/"
        },
        "outputId": "bdbbb1e0-b58d-4ea0-fb6f-38fbabf69e37"
      },
      "source": [
        "a = int(input(\"Altitude required for landing ? -\"))\r\n",
        "if (a <= 1000) :\r\n",
        "  print(\"Safe to land\")\r\n",
        "elif ((a > 1000) and (a < 5000)):\r\n",
        "  print(\"Bring down to 1000\")\r\n",
        "else:\r\n",
        "  print(\"Turn around\")"
      ],
      "execution_count": 26,
      "outputs": [
        {
          "output_type": "stream",
          "text": [
            "Altitude required for landing ? -4500\n",
            "Bring down to 1000\n"
          ],
          "name": "stdout"
        }
      ]
    },
    {
      "cell_type": "code",
      "metadata": {
        "colab": {
          "base_uri": "https://localhost:8080/"
        },
        "id": "zAF_P7ad7RMD",
        "outputId": "a7584472-2cff-40a5-a36a-fbb1568b9c2e"
      },
      "source": [
        "a = int(input(\"Altitude required for landing ? -\"))\r\n",
        "if (a <= 1000) :\r\n",
        "  print(\"Safe to land\")\r\n",
        "elif ((a > 1000) and (a < 5000)):\r\n",
        "  print(\"Bring down to 1000\")\r\n",
        "else:\r\n",
        "  print(\"Turn around\")"
      ],
      "execution_count": 27,
      "outputs": [
        {
          "output_type": "stream",
          "text": [
            "Altitude required for landing ? -6500\n",
            "Turn around\n"
          ],
          "name": "stdout"
        }
      ]
    },
    {
      "cell_type": "code",
      "metadata": {
        "id": "HiCMeTjy-D8-"
      },
      "source": [
        ""
      ],
      "execution_count": null,
      "outputs": []
    }
  ]
}