{
  "nbformat": 4,
  "nbformat_minor": 0,
  "metadata": {
    "colab": {
      "name": "Assignment3-11.ipynb",
      "provenance": []
    },
    "kernelspec": {
      "name": "python3",
      "display_name": "Python 3"
    }
  },
  "cells": [
    {
      "cell_type": "markdown",
      "metadata": {
        "id": "LZTx5fTZKMD-"
      },
      "source": [
        "1 . Write a function in Python to check whether a number is Prime or not."
      ]
    },
    {
      "cell_type": "code",
      "metadata": {
        "colab": {
          "base_uri": "https://localhost:8080/"
        },
        "id": "-ZYyFF-bNp8i",
        "outputId": "1e01f6b0-779d-43dd-9fa1-8366eea746d0"
      },
      "source": [
        "num = int(input(\"Given number is - \"))\r\n",
        "if num >1 :\r\n",
        "  for i in range (2, num) :\r\n",
        "    if (num % i) == 0 :\r\n",
        "       print(\"it is not prime number\")\r\n",
        "       break\r\n",
        "    else :\r\n",
        "        print(\"it is prime number\")  \r\n",
        "else :\r\n",
        "  print(\"it is not a prime number\")        "
      ],
      "execution_count": 32,
      "outputs": [
        {
          "output_type": "stream",
          "text": [
            "Given number is - 4\n",
            "it is not prime number\n"
          ],
          "name": "stdout"
        }
      ]
    },
    {
      "cell_type": "code",
      "metadata": {
        "colab": {
          "base_uri": "https://localhost:8080/"
        },
        "id": "brjnvJAiN3nP",
        "outputId": "ed3f5a09-7ae4-4ad8-81cd-072a8bff7d42"
      },
      "source": [
        "num = int(input(\"Given number is - \"))\r\n",
        "if num >1 :\r\n",
        "  for i in range (2, num) :\r\n",
        "    if (num % i) == 0 :\r\n",
        "       print(\"it is not prime number\")\r\n",
        "       break\r\n",
        "    else :\r\n",
        "        print(\"it is prime number\")  \r\n",
        "else :\r\n",
        "  print(\"it is not a prime number\")        "
      ],
      "execution_count": 33,
      "outputs": [
        {
          "output_type": "stream",
          "text": [
            "Given number is - 11\n",
            "it is prime number\n",
            "it is prime number\n",
            "it is prime number\n",
            "it is prime number\n",
            "it is prime number\n",
            "it is prime number\n",
            "it is prime number\n",
            "it is prime number\n",
            "it is prime number\n"
          ],
          "name": "stdout"
        }
      ]
    },
    {
      "cell_type": "code",
      "metadata": {
        "id": "QbDtjfy8P3VA"
      },
      "source": [
        ""
      ],
      "execution_count": null,
      "outputs": []
    }
  ]
}